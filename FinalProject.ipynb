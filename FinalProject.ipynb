{
 "cells": [
  {
   "cell_type": "markdown",
   "metadata": {},
   "source": [
    "# COGS 108 - Final Project"
   ]
  },
  {
   "cell_type": "markdown",
   "metadata": {},
   "source": [
    "## Important\n",
    "\n",
    "- ONE, and only one, member of your group should upload this notebook to TritonED. \n",
    "- Each member of the group will receive the same grade on this assignment. \n",
    "- Keep the file name the same: submit the file 'FinalProject.ipynb'.\n",
    "- Only upload the .ipynb file to TED, do not upload any associted data. Make sure that for cells in which you want graders to see output that these cells have been executed."
   ]
  },
  {
   "cell_type": "markdown",
   "metadata": {},
   "source": [
    "## Group Members: Fill in the Student IDs of each group member here\n",
    "\n",
    "Replace the lines below to list each persons full student ID, ucsd email and full name.\n",
    "\n",
    "- A12170444, dylew@ucsd.edu, Daniel Lew\n",
    "- A13107276, e3pineda@ucsd.edu, Elimelec Pineda \n",
    "- A12678538, jshi@ucsd.edu, Jamie Shi"
   ]
  },
  {
   "cell_type": "markdown",
   "metadata": {},
   "source": [
    "## Introduction and Background"
   ]
  },
  {
   "cell_type": "markdown",
   "metadata": {},
   "source": [
    "ELO statistics is a system designed to calculate the relative skill levels of players or teams in competition, and used as a predictor for an outcome of a match. These ratings are constantly changing as more games are played and calculate a team's winning percentage based on their winning record. We wanted to study if ELO ratings for an NBA team during one season can help predict their win percentage in following seasons. \n",
    "\n",
    "According to practicallypredictable, they analyze different factors that affect an ELO stat, such as ratings over time, strength of schedule, and team matchups. As a season progresses, rosters may adjust due to a player becoming injured, which could affect a team's ELO statistic depending on the impact that injured player had on the team's winning percentage. They incorporated strenghth of schedule in ELO stats to demonstrate that teams with wins in more difficult schedules throughout the season are more likely to have higher ELO's than teams with weaker schedules. Finally, team matchups can also affect the ELO ratings due to an upset, which means a less favored team beating a stronger team based on stats. This unpredictable outcome heavily sways a team's rating to a higher number, which could lead to higher chances of winning more games.\n",
    "\n",
    "As discussed previously, it’s clear that higher ELO is correlated with getting more wins. Yet, depending on whether it is the regular season or playoffs, this condition may overestimate or underestimate a team’s probability of winning. For example, in the regular season, stronger teams such as the 2018 Golden State Warriors would “coast,” or play with less effort, and lose meaningless games they should have won. Going by Elo rating, 538 gives Golden State just a 14% chance of winning another championship in 2019. This model under-rates Golden State’s ability to win games that matter, as the team is known to pick up the pace in April and dominate the playoffs. "
   ]
  },
  {
   "cell_type": "markdown",
   "metadata": {},
   "source": [
    "## Description of the Data"
   ]
  },
  {
   "cell_type": "markdown",
   "metadata": {},
   "source": [
    "The data we have came from kaggle hosted by the website FiveThirtyEight through their github. It contains 23 columns and about 120,890 rows. This file is of National Basketball League (NBA) game statistics which include game results, locations, years, team, and opponent elo. This enables us to run our hypothesis on teams throughout the years with clear and accurate data."
   ]
  },
  {
   "cell_type": "markdown",
   "metadata": {},
   "source": [
    "## Cleaning the Data"
   ]
  },
  {
   "cell_type": "code",
   "execution_count": 31,
   "metadata": {},
   "outputs": [],
   "source": [
    "%matplotlib inline\n",
    "\n",
    "import numpy as np\n",
    "import pandas as pd\n",
    "import matplotlib.pyplot as plt\n",
    "\n",
    "#uncomment imports below if you need them\n",
    "#import nltk\n",
    "#from nltk.tokenize import word_tokenize\n",
    "#from nltk.corpus import stopwords\n",
    "\n",
    "#from sklearn.svm import SVC\n",
    "#from sklearn.feature_extraction.text import CountVectorizer, TfidfVectorizer\n",
    "#from sklearn.metrics import classification_report, precision_recall_fscore_support\n",
    "\n",
    "import patsy\n",
    "import statsmodels.api as sm\n",
    "import scipy.stats as stats\n",
    "from scipy.stats import ttest_ind, chisquare, normaltest"
   ]
  },
  {
   "cell_type": "code",
   "execution_count": 32,
   "metadata": {},
   "outputs": [],
   "source": [
    "# saving the data\n",
    "eloDf = pd.read_csv('nbaallelo.csv')"
   ]
  },
  {
   "cell_type": "code",
   "execution_count": 33,
   "metadata": {},
   "outputs": [
    {
     "data": {
      "text/html": [
       "<div>\n",
       "<style scoped>\n",
       "    .dataframe tbody tr th:only-of-type {\n",
       "        vertical-align: middle;\n",
       "    }\n",
       "\n",
       "    .dataframe tbody tr th {\n",
       "        vertical-align: top;\n",
       "    }\n",
       "\n",
       "    .dataframe thead th {\n",
       "        text-align: right;\n",
       "    }\n",
       "</style>\n",
       "<table border=\"1\" class=\"dataframe\">\n",
       "  <thead>\n",
       "    <tr style=\"text-align: right;\">\n",
       "      <th></th>\n",
       "      <th>gameorder</th>\n",
       "      <th>game_id</th>\n",
       "      <th>lg_id</th>\n",
       "      <th>_iscopy</th>\n",
       "      <th>year_id</th>\n",
       "      <th>date_game</th>\n",
       "      <th>seasongame</th>\n",
       "      <th>is_playoffs</th>\n",
       "      <th>team_id</th>\n",
       "      <th>fran_id</th>\n",
       "      <th>...</th>\n",
       "      <th>win_equiv</th>\n",
       "      <th>opp_id</th>\n",
       "      <th>opp_fran</th>\n",
       "      <th>opp_pts</th>\n",
       "      <th>opp_elo_i</th>\n",
       "      <th>opp_elo_n</th>\n",
       "      <th>game_location</th>\n",
       "      <th>game_result</th>\n",
       "      <th>forecast</th>\n",
       "      <th>notes</th>\n",
       "    </tr>\n",
       "  </thead>\n",
       "  <tbody>\n",
       "    <tr>\n",
       "      <th>0</th>\n",
       "      <td>1</td>\n",
       "      <td>194611010TRH</td>\n",
       "      <td>NBA</td>\n",
       "      <td>0</td>\n",
       "      <td>1947</td>\n",
       "      <td>11/1/1946</td>\n",
       "      <td>1</td>\n",
       "      <td>0</td>\n",
       "      <td>TRH</td>\n",
       "      <td>Huskies</td>\n",
       "      <td>...</td>\n",
       "      <td>40.294830</td>\n",
       "      <td>NYK</td>\n",
       "      <td>Knicks</td>\n",
       "      <td>68</td>\n",
       "      <td>1300.0000</td>\n",
       "      <td>1306.7233</td>\n",
       "      <td>H</td>\n",
       "      <td>L</td>\n",
       "      <td>0.640065</td>\n",
       "      <td>NaN</td>\n",
       "    </tr>\n",
       "    <tr>\n",
       "      <th>1</th>\n",
       "      <td>1</td>\n",
       "      <td>194611010TRH</td>\n",
       "      <td>NBA</td>\n",
       "      <td>1</td>\n",
       "      <td>1947</td>\n",
       "      <td>11/1/1946</td>\n",
       "      <td>1</td>\n",
       "      <td>0</td>\n",
       "      <td>NYK</td>\n",
       "      <td>Knicks</td>\n",
       "      <td>...</td>\n",
       "      <td>41.705170</td>\n",
       "      <td>TRH</td>\n",
       "      <td>Huskies</td>\n",
       "      <td>66</td>\n",
       "      <td>1300.0000</td>\n",
       "      <td>1293.2767</td>\n",
       "      <td>A</td>\n",
       "      <td>W</td>\n",
       "      <td>0.359935</td>\n",
       "      <td>NaN</td>\n",
       "    </tr>\n",
       "    <tr>\n",
       "      <th>2</th>\n",
       "      <td>2</td>\n",
       "      <td>194611020CHS</td>\n",
       "      <td>NBA</td>\n",
       "      <td>0</td>\n",
       "      <td>1947</td>\n",
       "      <td>11/2/1946</td>\n",
       "      <td>1</td>\n",
       "      <td>0</td>\n",
       "      <td>CHS</td>\n",
       "      <td>Stags</td>\n",
       "      <td>...</td>\n",
       "      <td>42.012257</td>\n",
       "      <td>NYK</td>\n",
       "      <td>Knicks</td>\n",
       "      <td>47</td>\n",
       "      <td>1306.7233</td>\n",
       "      <td>1297.0712</td>\n",
       "      <td>H</td>\n",
       "      <td>W</td>\n",
       "      <td>0.631101</td>\n",
       "      <td>NaN</td>\n",
       "    </tr>\n",
       "    <tr>\n",
       "      <th>3</th>\n",
       "      <td>2</td>\n",
       "      <td>194611020CHS</td>\n",
       "      <td>NBA</td>\n",
       "      <td>1</td>\n",
       "      <td>1947</td>\n",
       "      <td>11/2/1946</td>\n",
       "      <td>2</td>\n",
       "      <td>0</td>\n",
       "      <td>NYK</td>\n",
       "      <td>Knicks</td>\n",
       "      <td>...</td>\n",
       "      <td>40.692783</td>\n",
       "      <td>CHS</td>\n",
       "      <td>Stags</td>\n",
       "      <td>63</td>\n",
       "      <td>1300.0000</td>\n",
       "      <td>1309.6521</td>\n",
       "      <td>A</td>\n",
       "      <td>L</td>\n",
       "      <td>0.368899</td>\n",
       "      <td>NaN</td>\n",
       "    </tr>\n",
       "    <tr>\n",
       "      <th>4</th>\n",
       "      <td>3</td>\n",
       "      <td>194611020DTF</td>\n",
       "      <td>NBA</td>\n",
       "      <td>0</td>\n",
       "      <td>1947</td>\n",
       "      <td>11/2/1946</td>\n",
       "      <td>1</td>\n",
       "      <td>0</td>\n",
       "      <td>DTF</td>\n",
       "      <td>Falcons</td>\n",
       "      <td>...</td>\n",
       "      <td>38.864048</td>\n",
       "      <td>WSC</td>\n",
       "      <td>Capitols</td>\n",
       "      <td>50</td>\n",
       "      <td>1300.0000</td>\n",
       "      <td>1320.3811</td>\n",
       "      <td>H</td>\n",
       "      <td>L</td>\n",
       "      <td>0.640065</td>\n",
       "      <td>NaN</td>\n",
       "    </tr>\n",
       "  </tbody>\n",
       "</table>\n",
       "<p>5 rows × 23 columns</p>\n",
       "</div>"
      ],
      "text/plain": [
       "   gameorder       game_id lg_id  _iscopy  year_id  date_game  seasongame  \\\n",
       "0          1  194611010TRH   NBA        0     1947  11/1/1946           1   \n",
       "1          1  194611010TRH   NBA        1     1947  11/1/1946           1   \n",
       "2          2  194611020CHS   NBA        0     1947  11/2/1946           1   \n",
       "3          2  194611020CHS   NBA        1     1947  11/2/1946           2   \n",
       "4          3  194611020DTF   NBA        0     1947  11/2/1946           1   \n",
       "\n",
       "   is_playoffs team_id  fran_id  ...   win_equiv  opp_id  opp_fran  opp_pts  \\\n",
       "0            0     TRH  Huskies  ...   40.294830     NYK    Knicks       68   \n",
       "1            0     NYK   Knicks  ...   41.705170     TRH   Huskies       66   \n",
       "2            0     CHS    Stags  ...   42.012257     NYK    Knicks       47   \n",
       "3            0     NYK   Knicks  ...   40.692783     CHS     Stags       63   \n",
       "4            0     DTF  Falcons  ...   38.864048     WSC  Capitols       50   \n",
       "\n",
       "   opp_elo_i  opp_elo_n  game_location  game_result  forecast notes  \n",
       "0  1300.0000  1306.7233              H            L  0.640065   NaN  \n",
       "1  1300.0000  1293.2767              A            W  0.359935   NaN  \n",
       "2  1306.7233  1297.0712              H            W  0.631101   NaN  \n",
       "3  1300.0000  1309.6521              A            L  0.368899   NaN  \n",
       "4  1300.0000  1320.3811              H            L  0.640065   NaN  \n",
       "\n",
       "[5 rows x 23 columns]"
      ]
     },
     "execution_count": 33,
     "metadata": {},
     "output_type": "execute_result"
    }
   ],
   "source": [
    "# Looking at the Data\n",
    "eloDf.head(5)"
   ]
  },
  {
   "cell_type": "markdown",
   "metadata": {},
   "source": [
    "As seen in by looking at the first 5 rows of the data, the data already contains standarized versions of important columns such as team and opponent name as well as game season, game location, and game result. We also checked to see if the data contains any missing values"
   ]
  },
  {
   "cell_type": "code",
   "execution_count": 34,
   "metadata": {},
   "outputs": [
    {
     "name": "stdout",
     "output_type": "stream",
     "text": [
      "gameorder             0\n",
      "game_id               0\n",
      "lg_id                 0\n",
      "_iscopy               0\n",
      "year_id               0\n",
      "date_game             0\n",
      "seasongame            0\n",
      "is_playoffs           0\n",
      "team_id               0\n",
      "fran_id               0\n",
      "pts                   0\n",
      "elo_i                 0\n",
      "elo_n                 0\n",
      "win_equiv             0\n",
      "opp_id                0\n",
      "opp_fran              0\n",
      "opp_pts               0\n",
      "opp_elo_i             0\n",
      "opp_elo_n             0\n",
      "game_location         0\n",
      "game_result           0\n",
      "forecast              0\n",
      "notes            120890\n",
      "dtype: int64\n"
     ]
    }
   ],
   "source": [
    "# Check for any missing data\n",
    "print(eloDf.isnull().sum())"
   ]
  },
  {
   "cell_type": "markdown",
   "metadata": {},
   "source": [
    "The only column with missing data was under notes, however, we do not plan to use this observation. Since the other columns seem to contain no missing values, we have concluded that the data is clean."
   ]
  },
  {
   "cell_type": "code",
   "execution_count": 35,
   "metadata": {},
   "outputs": [],
   "source": [
    "# Dropping columns we don't need\n",
    "eloDf.drop(['game_id','lg_id','seasongame','gameorder','is_playoffs','pts','opp_pts','fran_id','opp_fran','game_location','notes'], axis=1, inplace=True)"
   ]
  },
  {
   "cell_type": "markdown",
   "metadata": {},
   "source": [
    "We also removed several columns that we believe will not be revelent in our analysis to make the dataframe easier to read. Columns we did keep were because they had revelency to our hypothesis or could be used as markers should we need them."
   ]
  },
  {
   "cell_type": "markdown",
   "metadata": {},
   "source": [
    "## Analysis of the Data"
   ]
  },
  {
   "cell_type": "code",
   "execution_count": 36,
   "metadata": {},
   "outputs": [
    {
     "name": "stdout",
     "output_type": "stream",
     "text": [
      "        _iscopy  year_id   date_game team_id      elo_i      elo_n  win_equiv  \\\n",
      "51630         1     1985  10/26/1984     WSB  1455.0490  1442.1162  34.773190   \n",
      "51631         0     1985  10/26/1984     CHI  1377.2302  1390.1630  29.584490   \n",
      "51632         1     1985  10/26/1984     BOS  1643.8761  1653.2661  56.125080   \n",
      "51633         0     1985  10/26/1984     DET  1574.7426  1565.3525  47.593834   \n",
      "51634         0     1985  10/26/1984     GSW  1453.0502  1443.4432  34.909248   \n",
      "51635         1     1985  10/26/1984     PHO  1537.4418  1547.0487  45.710697   \n",
      "51636         1     1985  10/26/1984     ATL  1507.9084  1529.6881  43.905666   \n",
      "51637         0     1985  10/26/1984     NJN  1562.4678  1540.6881  45.051132   \n",
      "51638         0     1985  10/26/1984     PHI  1555.1931  1558.5397  46.895794   \n",
      "51639         1     1985  10/26/1984     CLE  1406.9590  1403.6124  30.897978   \n",
      "51640         1     1985  10/26/1984     UTA  1492.9644  1487.1504  39.449268   \n",
      "51641         0     1985  10/26/1984     SEA  1501.9596  1507.7736  41.611759   \n",
      "51642         1     1985  10/27/1984     PHI  1558.5397  1565.6649  47.625751   \n",
      "51643         0     1985  10/27/1984     ATL  1529.6881  1522.5629  43.161133   \n",
      "51644         0     1985  10/27/1984     CLE  1403.6124  1386.9723  29.276455   \n",
      "51645         1     1985  10/27/1984     NJN  1540.6881  1557.3282  46.771294   \n",
      "51646         1     1985  10/27/1984     HOU  1407.0588  1425.4658  33.078911   \n",
      "51647         0     1985  10/27/1984     DAL  1498.7242  1480.3173  38.734074   \n",
      "51648         0     1985  10/27/1984     DEN  1500.1733  1503.4170  41.154819   \n",
      "51649         1     1985  10/27/1984     GSW  1443.4432  1440.1996  34.576931   \n",
      "51650         1     1985  10/27/1984     WSB  1442.1162  1448.3800  35.416592   \n",
      "51651         0     1985  10/27/1984     IND  1418.7012  1412.4374  31.772192   \n",
      "51652         0     1985  10/27/1984     KCK  1469.1726  1448.1962  35.397667   \n",
      "51653         1     1985  10/27/1984     POR  1507.2375  1528.2140  43.751774   \n",
      "51654         1     1985  10/27/1984     CHI  1390.1630  1388.9805  29.470163   \n",
      "51655         0     1985  10/27/1984     MIL  1589.2648  1590.4473  50.128422   \n",
      "51656         0     1985  10/27/1984     NYK  1554.4243  1565.4785  47.606709   \n",
      "51657         1     1985  10/27/1984     DET  1565.3525  1554.2983  46.459435   \n",
      "51658         0     1985  10/27/1984     SAS  1482.1672  1486.6742  39.399391   \n",
      "51659         1     1985  10/27/1984     LAL  1612.7454  1608.2384  51.883133   \n",
      "...         ...      ...         ...     ...        ...        ...        ...   \n",
      "126284        0     2015   5/19/2015     GSW  1787.3469  1789.7388  66.537224   \n",
      "126285        1     2015   5/19/2015     HOU  1669.5398  1667.1479  57.136570   \n",
      "126286        0     2015   5/20/2015     ATL  1613.9390  1603.6616  51.180210   \n",
      "126287        1     2015   5/20/2015     CLE  1678.9756  1689.2529  59.051449   \n",
      "126288        0     2015   5/21/2015     GSW  1789.7388  1791.2300  66.632729   \n",
      "126289        1     2015   5/21/2015     HOU  1667.1479  1665.6567  57.004177   \n",
      "126290        0     2015   5/22/2015     ATL  1603.6616  1591.4017  49.964417   \n",
      "126291        1     2015   5/22/2015     CLE  1689.2529  1701.5128  60.073715   \n",
      "126292        1     2015   5/23/2015     GSW  1791.2300  1813.4543  68.002609   \n",
      "126293        0     2015   5/23/2015     HOU  1665.6567  1643.4324  54.985523   \n",
      "126294        0     2015   5/24/2015     CLE  1701.5128  1703.7124  60.254032   \n",
      "126295        1     2015   5/24/2015     ATL  1591.4017  1589.2021  49.744450   \n",
      "126296        1     2015   5/25/2015     GSW  1813.4543  1797.8933  67.053963   \n",
      "126297        0     2015   5/25/2015     HOU  1643.4324  1658.9934  56.407814   \n",
      "126298        0     2015   5/26/2015     CLE  1703.7124  1712.1232  60.934734   \n",
      "126299        1     2015   5/26/2015     ATL  1589.2021  1580.7914  48.898579   \n",
      "126300        1     2015   5/27/2015     HOU  1658.9934  1654.6359  56.013645   \n",
      "126301        0     2015   5/27/2015     GSW  1797.8933  1802.2509  67.324539   \n",
      "126302        1     2015    6/4/2015     CLE  1712.1232  1708.1705  60.616585   \n",
      "126303        0     2015    6/4/2015     GSW  1802.2509  1806.2035  67.566650   \n",
      "126304        1     2015    6/7/2015     CLE  1708.1705  1716.8708  61.312763   \n",
      "126305        0     2015    6/7/2015     GSW  1806.2035  1797.5032  67.029549   \n",
      "126306        1     2015    6/9/2015     GSW  1797.5032  1790.9591  66.615417   \n",
      "126307        0     2015    6/9/2015     CLE  1716.8708  1723.4149  61.826408   \n",
      "126308        1     2015   6/11/2015     GSW  1790.9591  1809.9791  67.794983   \n",
      "126309        0     2015   6/11/2015     CLE  1723.4149  1704.3949  60.309792   \n",
      "126310        0     2015   6/14/2015     GSW  1809.9791  1813.6349  68.013329   \n",
      "126311        1     2015   6/14/2015     CLE  1704.3949  1700.7391  60.010067   \n",
      "126312        0     2015   6/16/2015     CLE  1700.7391  1692.0859  59.290245   \n",
      "126313        1     2015   6/16/2015     GSW  1813.6349  1822.2881  68.519516   \n",
      "\n",
      "       opp_id  opp_elo_i  opp_elo_n game_result  forecast  \n",
      "51630     CHI  1377.2302  1390.1630           L  0.468122  \n",
      "51631     WSB  1455.0490  1442.1162           W  0.531878  \n",
      "51632     DET  1574.7426  1565.3525           W  0.455696  \n",
      "51633     BOS  1643.8761  1653.2661           L  0.544304  \n",
      "51634     PHO  1537.4418  1547.0487           L  0.522447  \n",
      "51635     GSW  1453.0502  1443.4432           W  0.477553  \n",
      "51636     NJN  1562.4678  1540.6881           W  0.291169  \n",
      "51637     ATL  1507.9084  1529.6881           L  0.708831  \n",
      "51638     CLE  1406.9590  1403.6124           W  0.806738  \n",
      "51639     PHI  1555.1931  1558.5397           L  0.193262  \n",
      "51640     SEA  1501.9596  1507.7736           L  0.348094  \n",
      "51641     UTA  1492.9644  1487.1504           W  0.651906  \n",
      "51642     ATL  1529.6881  1522.5629           W  0.399017  \n",
      "51643     PHI  1558.5397  1565.6649           L  0.600983  \n",
      "51644     NJN  1540.6881  1557.3282           L  0.446845  \n",
      "51645     CLE  1403.6124  1386.9723           W  0.553155  \n",
      "51646     DAL  1498.7242  1480.3173           W  0.249119  \n",
      "51647     HOU  1407.0588  1425.4658           L  0.750881  \n",
      "51648     GSW  1443.4432  1440.1996           W  0.711404  \n",
      "51649     DEN  1500.1733  1503.4170           L  0.288596  \n",
      "51650     IND  1418.7012  1412.4374           W  0.391536  \n",
      "51651     WSB  1442.1162  1448.3800           L  0.608464  \n",
      "51652     POR  1507.2375  1528.2140           L  0.588199  \n",
      "51653     KCK  1469.1726  1448.1962           W  0.411801  \n",
      "51654     MIL  1589.2648  1590.4473           L  0.151644  \n",
      "51655     CHI  1390.1630  1388.9805           W  0.848356  \n",
      "51656     DET  1565.3525  1554.2983           W  0.625448  \n",
      "51657     NYK  1554.4243  1565.4785           L  0.374552  \n",
      "51658     LAL  1612.7454  1608.2384           W  0.456108  \n",
      "51659     SAS  1482.1672  1486.6742           L  0.543892  \n",
      "...       ...        ...        ...         ...       ...  \n",
      "126284    HOU  1669.5398  1667.1479           W  0.777957  \n",
      "126285    GSW  1787.3469  1789.7388           L  0.222043  \n",
      "126286    CLE  1678.9756  1689.2529           L  0.550147  \n",
      "126287    ATL  1613.9390  1603.6616           W  0.449853  \n",
      "126288    HOU  1667.1479  1665.6567           W  0.782677  \n",
      "126289    GSW  1789.7388  1791.2300           L  0.217323  \n",
      "126290    CLE  1689.2529  1701.5128           L  0.520724  \n",
      "126291    ATL  1603.6616  1591.4017           W  0.479276  \n",
      "126292    HOU  1665.6567  1643.4324           W  0.536737  \n",
      "126293    GSW  1791.2300  1813.4543           L  0.463263  \n",
      "126294    ATL  1591.4017  1589.2021           W  0.770210  \n",
      "126295    CLE  1701.5128  1703.7124           L  0.229790  \n",
      "126296    HOU  1643.4324  1658.9934           L  0.599427  \n",
      "126297    GSW  1813.4543  1797.8933           W  0.400573  \n",
      "126298    ATL  1589.2021  1580.7914           W  0.774661  \n",
      "126299    CLE  1703.7124  1712.1232           L  0.225339  \n",
      "126300    GSW  1797.8933  1802.2509           L  0.201778  \n",
      "126301    HOU  1658.9934  1654.6359           W  0.798222  \n",
      "126302    GSW  1802.2509  1806.2035           L  0.250779  \n",
      "126303    CLE  1712.1232  1708.1705           W  0.749221  \n",
      "126304    GSW  1806.2035  1797.5032           W  0.242326  \n",
      "126305    CLE  1708.1705  1716.8708           L  0.757674  \n",
      "126306    CLE  1716.8708  1723.4149           L  0.472157  \n",
      "126307    GSW  1797.5032  1790.9591           W  0.527843  \n",
      "126308    CLE  1723.4149  1704.3949           W  0.453428  \n",
      "126309    GSW  1790.9591  1809.9791           L  0.546572  \n",
      "126310    CLE  1704.3949  1700.7391           W  0.765565  \n",
      "126311    GSW  1809.9791  1813.6349           L  0.234435  \n",
      "126312    GSW  1813.6349  1822.2881           L  0.481450  \n",
      "126313    CLE  1700.7391  1692.0859           W  0.518550  \n",
      "\n",
      "[74684 rows x 12 columns]\n"
     ]
    }
   ],
   "source": [
    "# Only take teams that played in last 30 years\n",
    "df = eloDf[eloDf['year_id'] > 1984]\n",
    "print(df)"
   ]
  },
  {
   "cell_type": "markdown",
   "metadata": {},
   "source": [
    "First, we made another Dataframe that only looks at the games played in the last 30 years. This will enable yearly comparisons easier to do between teams. Since the data only went as far as 2015, we only took games starting at 1985."
   ]
  },
  {
   "cell_type": "code",
   "execution_count": 37,
   "metadata": {},
   "outputs": [
    {
     "name": "stdout",
     "output_type": "stream",
     "text": [
      "['WSB' 'CHI' 'BOS' 'DET' 'GSW' 'PHO' 'ATL' 'NJN' 'PHI' 'CLE' 'UTA' 'SEA'\n",
      " 'HOU' 'DAL' 'DEN' 'IND' 'KCK' 'POR' 'MIL' 'NYK' 'SAS' 'LAL' 'LAC' 'SAC'\n",
      " 'CHH' 'MIA' 'MIN' 'ORL' 'VAN' 'TOR' 'WAS' 'MEM' 'NOH' 'CHA' 'NOK' 'OKC'\n",
      " 'BRK' 'NOP' 'CHO']\n",
      "39\n"
     ]
    }
   ],
   "source": [
    "# Find Team Ids\n",
    "uniqueTeams = df.team_id.unique()\n",
    "print(uniqueTeams)\n",
    "print(uniqueTeams.size)"
   ]
  },
  {
   "cell_type": "markdown",
   "metadata": {},
   "source": [
    "Next, we looked at the unique teams that existed in our data. This gave us a visualization of the teams as well as provide us with markers of each team name."
   ]
  },
  {
   "cell_type": "code",
   "execution_count": 38,
   "metadata": {},
   "outputs": [
    {
     "data": {
      "text/plain": [
       "20"
      ]
     },
     "execution_count": 38,
     "metadata": {},
     "output_type": "execute_result"
    }
   ],
   "source": [
    "# Drop teams that haven't played at least 15 NBA seasons\n",
    "for team in uniqueTeams:\n",
    "    yearsPlayed = df.loc[df['team_id'] == team].year_id.unique().size\n",
    "    if yearsPlayed < 30:\n",
    "        df.drop(df[df.team_id == team].index, inplace=True)\n",
    "\n",
    "uniqueTeams = df.team_id.unique()\n",
    "uniqueTeams.size"
   ]
  },
  {
   "cell_type": "code",
   "execution_count": 39,
   "metadata": {},
   "outputs": [
    {
     "name": "stdout",
     "output_type": "stream",
     "text": [
      "['CHI' 'BOS' 'DET' 'GSW' 'PHO' 'ATL' 'PHI' 'CLE' 'UTA' 'HOU' 'DAL' 'DEN'\n",
      " 'IND' 'POR' 'MIL' 'NYK' 'SAS' 'LAL' 'LAC' 'SAC']\n"
     ]
    }
   ],
   "source": [
    "print(uniqueTeams)"
   ]
  },
  {
   "cell_type": "markdown",
   "metadata": {},
   "source": [
    "To make sure that comparisons are fair, we further reduced teams to those that played 30 NBA seasons to ensure we don't get any teams that have played a few games within our timeframe."
   ]
  },
  {
   "cell_type": "code",
   "execution_count": 41,
   "metadata": {},
   "outputs": [
    {
     "data": {
      "text/plain": [
       "<matplotlib.axes._subplots.AxesSubplot at 0x22628e86438>"
      ]
     },
     "execution_count": 41,
     "metadata": {},
     "output_type": "execute_result"
    },
    {
     "data": {
      "image/png": "[encoded data removed]",
      "text/plain": [
       "<Figure size 432x288 with 1 Axes>"
      ]
     },
     "metadata": {
      "needs_background": "light"
     },
     "output_type": "display_data"
    }
   ],
   "source": [
    "# Plot data for ELO of the Warriors and Lakers over time\n",
    "gsw = df.loc[df['team_id'] == 'GSW']\n",
    "gswActiveYears = gsw.year_id.unique()\n",
    "\n",
    "lal = df.loc[df['team_id'] == 'LAL']\n",
    "lalActiveYears = lal.year_id.unique()\n",
    "\n",
    "gswData = []\n",
    "for year in gswActiveYears:\n",
    "    meanEloThisYear = gsw.loc[eloDf['year_id'] == year].elo_n.mean()\n",
    "    gswData.append(meanEloThisYear)\n",
    "\n",
    "lalData = []\n",
    "for year in lalActiveYears:\n",
    "    meanEloThisYear = lal.loc[eloDf['year_id'] == year].elo_n.mean()\n",
    "    lalData.append(meanEloThisYear)\n",
    "\n",
    "gswDf = pd.DataFrame(gswData, columns=['meanElo'], index=gswActiveYears)\n",
    "lalDf = pd.DataFrame(lalData, columns=['meanElo'], index=lalActiveYears)\n",
    "\n",
    "\n",
    "dfCompare = pd.concat([gswDf, lalDf], ignore_index=True, axis=1)\n",
    "dfCompare.columns = ['gsw', 'lal']\n",
    "\n",
    "dfCompare.plot(kind='line', title='ELO for GSW and LAL over time')"
   ]
  },
  {
   "cell_type": "markdown",
   "metadata": {},
   "source": [
    "We then took two teams in our time frame, GSW and LAL, and compared their average ELO through the last 30 years. We ploted our analysis to show that there seems to be an indication that when one team has a high ELO score, the other team has a low ELO score. We also noticed that the GSWs highs have are not as high as the LALs. This may be due to the LALs actually starting earlier then the GSWs which gives then a higher ELO rating each year since ELO carries over each year. "
   ]
  },
  {
   "cell_type": "markdown",
   "metadata": {},
   "source": [
    "## Results"
   ]
  },
  {
   "cell_type": "markdown",
   "metadata": {},
   "source": []
  },
  {
   "cell_type": "markdown",
   "metadata": {},
   "source": [
    "## Privacy and Ethics"
   ]
  },
  {
   "cell_type": "markdown",
   "metadata": {},
   "source": [
    "We have permission to use this dataset as the TAs have already approved of this usage as well as it being released to github and other open sources. This data does not violate any privacy matters as it only displays the numerical statistics of a team without revealing any personal information. Our data also includes all of the teams in the NBA, so there are not any potential biases regarding any exclusion of certain teams. "
   ]
  },
  {
   "cell_type": "markdown",
   "metadata": {},
   "source": [
    "## Conclusion"
   ]
  },
  {
   "cell_type": "markdown",
   "metadata": {},
   "source": []
  }
 ],
 "metadata": {
  "kernelspec": {
   "display_name": "Python 3",
   "language": "python",
   "name": "python3"
  },
  "language_info": {
   "codemirror_mode": {
    "name": "ipython",
    "version": 3
   },
   "file_extension": ".py",
   "mimetype": "text/x-python",
   "name": "python",
   "nbconvert_exporter": "python",
   "pygments_lexer": "ipython3",
   "version": "3.7.1"
  }
 },
 "nbformat": 4,
 "nbformat_minor": 2
}
