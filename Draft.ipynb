{
 "cells": [
  {
   "cell_type": "code",
   "execution_count": 1,
   "metadata": {},
   "outputs": [],
   "source": [
    "# Display plots directly in the notebook instead of in a new window\n",
    "%matplotlib inline\n",
    "\n",
    "# Import libraries\n",
    "import numpy as np\n",
    "import pandas as pd\n",
    "import matplotlib.pyplot as plt"
   ]
  },
  {
   "cell_type": "code",
   "execution_count": 2,
   "metadata": {},
   "outputs": [],
   "source": [
    "eloDf = pd.read_csv('nbaallelo.csv')"
   ]
  },
  {
   "cell_type": "code",
   "execution_count": 3,
   "metadata": {},
   "outputs": [
    {
     "data": {
      "text/html": [
       "<div>\n",
       "<style scoped>\n",
       "    .dataframe tbody tr th:only-of-type {\n",
       "        vertical-align: middle;\n",
       "    }\n",
       "\n",
       "    .dataframe tbody tr th {\n",
       "        vertical-align: top;\n",
       "    }\n",
       "\n",
       "    .dataframe thead th {\n",
       "        text-align: right;\n",
       "    }\n",
       "</style>\n",
       "<table border=\"1\" class=\"dataframe\">\n",
       "  <thead>\n",
       "    <tr style=\"text-align: right;\">\n",
       "      <th></th>\n",
       "      <th>gameorder</th>\n",
       "      <th>game_id</th>\n",
       "      <th>lg_id</th>\n",
       "      <th>_iscopy</th>\n",
       "      <th>year_id</th>\n",
       "      <th>date_game</th>\n",
       "      <th>seasongame</th>\n",
       "      <th>is_playoffs</th>\n",
       "      <th>team_id</th>\n",
       "      <th>fran_id</th>\n",
       "      <th>...</th>\n",
       "      <th>win_equiv</th>\n",
       "      <th>opp_id</th>\n",
       "      <th>opp_fran</th>\n",
       "      <th>opp_pts</th>\n",
       "      <th>opp_elo_i</th>\n",
       "      <th>opp_elo_n</th>\n",
       "      <th>game_location</th>\n",
       "      <th>game_result</th>\n",
       "      <th>forecast</th>\n",
       "      <th>notes</th>\n",
       "    </tr>\n",
       "  </thead>\n",
       "  <tbody>\n",
       "    <tr>\n",
       "      <th>0</th>\n",
       "      <td>1</td>\n",
       "      <td>194611010TRH</td>\n",
       "      <td>NBA</td>\n",
       "      <td>0</td>\n",
       "      <td>1947</td>\n",
       "      <td>11/1/1946</td>\n",
       "      <td>1</td>\n",
       "      <td>0</td>\n",
       "      <td>TRH</td>\n",
       "      <td>Huskies</td>\n",
       "      <td>...</td>\n",
       "      <td>40.294830</td>\n",
       "      <td>NYK</td>\n",
       "      <td>Knicks</td>\n",
       "      <td>68</td>\n",
       "      <td>1300.0000</td>\n",
       "      <td>1306.7233</td>\n",
       "      <td>H</td>\n",
       "      <td>L</td>\n",
       "      <td>0.640065</td>\n",
       "      <td>NaN</td>\n",
       "    </tr>\n",
       "    <tr>\n",
       "      <th>1</th>\n",
       "      <td>1</td>\n",
       "      <td>194611010TRH</td>\n",
       "      <td>NBA</td>\n",
       "      <td>1</td>\n",
       "      <td>1947</td>\n",
       "      <td>11/1/1946</td>\n",
       "      <td>1</td>\n",
       "      <td>0</td>\n",
       "      <td>NYK</td>\n",
       "      <td>Knicks</td>\n",
       "      <td>...</td>\n",
       "      <td>41.705170</td>\n",
       "      <td>TRH</td>\n",
       "      <td>Huskies</td>\n",
       "      <td>66</td>\n",
       "      <td>1300.0000</td>\n",
       "      <td>1293.2767</td>\n",
       "      <td>A</td>\n",
       "      <td>W</td>\n",
       "      <td>0.359935</td>\n",
       "      <td>NaN</td>\n",
       "    </tr>\n",
       "    <tr>\n",
       "      <th>2</th>\n",
       "      <td>2</td>\n",
       "      <td>194611020CHS</td>\n",
       "      <td>NBA</td>\n",
       "      <td>0</td>\n",
       "      <td>1947</td>\n",
       "      <td>11/2/1946</td>\n",
       "      <td>1</td>\n",
       "      <td>0</td>\n",
       "      <td>CHS</td>\n",
       "      <td>Stags</td>\n",
       "      <td>...</td>\n",
       "      <td>42.012257</td>\n",
       "      <td>NYK</td>\n",
       "      <td>Knicks</td>\n",
       "      <td>47</td>\n",
       "      <td>1306.7233</td>\n",
       "      <td>1297.0712</td>\n",
       "      <td>H</td>\n",
       "      <td>W</td>\n",
       "      <td>0.631101</td>\n",
       "      <td>NaN</td>\n",
       "    </tr>\n",
       "    <tr>\n",
       "      <th>3</th>\n",
       "      <td>2</td>\n",
       "      <td>194611020CHS</td>\n",
       "      <td>NBA</td>\n",
       "      <td>1</td>\n",
       "      <td>1947</td>\n",
       "      <td>11/2/1946</td>\n",
       "      <td>2</td>\n",
       "      <td>0</td>\n",
       "      <td>NYK</td>\n",
       "      <td>Knicks</td>\n",
       "      <td>...</td>\n",
       "      <td>40.692783</td>\n",
       "      <td>CHS</td>\n",
       "      <td>Stags</td>\n",
       "      <td>63</td>\n",
       "      <td>1300.0000</td>\n",
       "      <td>1309.6521</td>\n",
       "      <td>A</td>\n",
       "      <td>L</td>\n",
       "      <td>0.368899</td>\n",
       "      <td>NaN</td>\n",
       "    </tr>\n",
       "    <tr>\n",
       "      <th>4</th>\n",
       "      <td>3</td>\n",
       "      <td>194611020DTF</td>\n",
       "      <td>NBA</td>\n",
       "      <td>0</td>\n",
       "      <td>1947</td>\n",
       "      <td>11/2/1946</td>\n",
       "      <td>1</td>\n",
       "      <td>0</td>\n",
       "      <td>DTF</td>\n",
       "      <td>Falcons</td>\n",
       "      <td>...</td>\n",
       "      <td>38.864048</td>\n",
       "      <td>WSC</td>\n",
       "      <td>Capitols</td>\n",
       "      <td>50</td>\n",
       "      <td>1300.0000</td>\n",
       "      <td>1320.3811</td>\n",
       "      <td>H</td>\n",
       "      <td>L</td>\n",
       "      <td>0.640065</td>\n",
       "      <td>NaN</td>\n",
       "    </tr>\n",
       "  </tbody>\n",
       "</table>\n",
       "<p>5 rows × 23 columns</p>\n",
       "</div>"
      ],
      "text/plain": [
       "   gameorder       game_id lg_id  _iscopy  year_id  date_game  seasongame  \\\n",
       "0          1  194611010TRH   NBA        0     1947  11/1/1946           1   \n",
       "1          1  194611010TRH   NBA        1     1947  11/1/1946           1   \n",
       "2          2  194611020CHS   NBA        0     1947  11/2/1946           1   \n",
       "3          2  194611020CHS   NBA        1     1947  11/2/1946           2   \n",
       "4          3  194611020DTF   NBA        0     1947  11/2/1946           1   \n",
       "\n",
       "   is_playoffs team_id  fran_id  ...   win_equiv  opp_id  opp_fran  opp_pts  \\\n",
       "0            0     TRH  Huskies  ...   40.294830     NYK    Knicks       68   \n",
       "1            0     NYK   Knicks  ...   41.705170     TRH   Huskies       66   \n",
       "2            0     CHS    Stags  ...   42.012257     NYK    Knicks       47   \n",
       "3            0     NYK   Knicks  ...   40.692783     CHS     Stags       63   \n",
       "4            0     DTF  Falcons  ...   38.864048     WSC  Capitols       50   \n",
       "\n",
       "   opp_elo_i  opp_elo_n  game_location  game_result  forecast notes  \n",
       "0  1300.0000  1306.7233              H            L  0.640065   NaN  \n",
       "1  1300.0000  1293.2767              A            W  0.359935   NaN  \n",
       "2  1306.7233  1297.0712              H            W  0.631101   NaN  \n",
       "3  1300.0000  1309.6521              A            L  0.368899   NaN  \n",
       "4  1300.0000  1320.3811              H            L  0.640065   NaN  \n",
       "\n",
       "[5 rows x 23 columns]"
      ]
     },
     "execution_count": 3,
     "metadata": {},
     "output_type": "execute_result"
    }
   ],
   "source": [
    "eloDf.head()"
   ]
  },
  {
   "cell_type": "code",
   "execution_count": 4,
   "metadata": {},
   "outputs": [
    {
     "name": "stdout",
     "output_type": "stream",
     "text": [
      "['TRH' 'NYK' 'CHS' 'DTF' 'WSC' 'BOS' 'PRO' 'PIT' 'STB' 'CLR' 'PHW' 'BLB'\n",
      " 'INJ' 'FTW' 'MNL' 'ROC' 'TRI' 'DNN' 'INO' 'SHE' 'WAT' 'AND' 'SYR' 'MLH'\n",
      " 'STL' 'DET' 'CIN' 'LAL' 'CHP' 'CHZ' 'SFW' 'BAL' 'PHI' 'CHI' 'SEA' 'OAK'\n",
      " 'ANA' 'SDR' 'KEN' 'INA' 'DNR' 'DLC' 'HSM' 'NOB' 'MNM' 'NJA' 'PTP' 'ATL'\n",
      " 'MIL' 'PHO' 'NYA' 'MMF' 'MNP' 'LAS' 'CAR' 'WSA' 'BUF' 'CLE' 'UTS' 'FLO'\n",
      " 'PTC' 'POR' 'VIR' 'TEX' 'MMP' 'HOU' 'GSW' 'KCO' 'MMT' 'SDA' 'CAP' 'SAA'\n",
      " 'NOJ' 'DNA' 'SSL' 'MMS' 'WSB' 'KCK' 'SDS' 'IND' 'NYN' 'DEN' 'SAS' 'NJN'\n",
      " 'SDC' 'UTA' 'DAL' 'LAC' 'SAC' 'CHH' 'MIA' 'MIN' 'ORL' 'VAN' 'TOR' 'WAS'\n",
      " 'MEM' 'NOH' 'CHA' 'NOK' 'OKC' 'BRK' 'NOP' 'CHO']\n",
      "104\n"
     ]
    }
   ],
   "source": [
    "uniqueTeams = eloDf.team_id.unique()\n",
    "print(uniqueTeams)\n",
    "print(uniqueTeams.size)"
   ]
  },
  {
   "cell_type": "code",
   "execution_count": 5,
   "metadata": {},
   "outputs": [
    {
     "data": {
      "text/plain": [
       "30"
      ]
     },
     "execution_count": 5,
     "metadata": {},
     "output_type": "execute_result"
    }
   ],
   "source": [
    "# Drop teams that haven't played at least 15 NBA seasons\n",
    "for team in uniqueTeams:\n",
    "    yearsPlayed = eloDf.loc[eloDf['team_id'] == team].year_id.unique().size\n",
    "    if yearsPlayed < 15:\n",
    "        eloDf.drop(eloDf[eloDf.team_id == team].index, inplace=True)\n",
    "\n",
    "uniqueTeams = eloDf.team_id.unique()\n",
    "uniqueTeams.size"
   ]
  },
  {
   "cell_type": "code",
   "execution_count": 6,
   "metadata": {},
   "outputs": [
    {
     "data": {
      "text/plain": [
       "<matplotlib.axes._subplots.AxesSubplot at 0x11e391fd0>"
      ]
     },
     "execution_count": 6,
     "metadata": {},
     "output_type": "execute_result"
    },
    {
     "data": {
      "image/png": "[encoded data removed]",
      "text/plain": [
       "<Figure size 432x288 with 1 Axes>"
      ]
     },
     "metadata": {
      "needs_background": "light"
     },
     "output_type": "display_data"
    }
   ],
   "source": [
    "# Plot data for ELO of the Warriors and Lakers over time\n",
    "gsw = eloDf.loc[eloDf['team_id'] == 'GSW']\n",
    "gswActiveYears = gsw.year_id.unique()\n",
    "\n",
    "lal = eloDf.loc[eloDf['team_id'] == 'LAL']\n",
    "lalActiveYears = lal.year_id.unique()\n",
    "\n",
    "gswData = []\n",
    "for year in gswActiveYears:\n",
    "    meanEloThisYear = gsw.loc[eloDf['year_id'] == year].elo_n.mean()\n",
    "    gswData.append(meanEloThisYear)\n",
    "\n",
    "lalData = []\n",
    "for year in lalActiveYears:\n",
    "    meanEloThisYear = lal.loc[eloDf['year_id'] == year].elo_n.mean()\n",
    "    lalData.append(meanEloThisYear)\n",
    "\n",
    "gswDf = pd.DataFrame(gswData, columns=['meanElo'], index=gswActiveYears)\n",
    "lalDf = pd.DataFrame(lalData, columns=['meanElo'], index=lalActiveYears)\n",
    "\n",
    "\n",
    "df = pd.concat([gswDf, lalDf], ignore_index=True, axis=1)\n",
    "df.columns = ['gsw', 'lal']\n",
    "\n",
    "df.plot(kind='line', title='ELO for GSW and LAL over time')\n",
    "\n",
    "# eloDf.drop(columns=['gameorder', 'game_id', 'lg_id', '_iscopy', 'seasongame', \n",
    "#                      'is_playoffs', 'fran_id', 'pts', 'elo_i', 'win_equiv', 'opp_id',\n",
    "#                      'opp_fran', 'opp_pts', 'opp_elo_i', 'opp_elo_n', 'game_location',\n",
    "#                      'game_result', 'forecast', 'notes'])"
   ]
  },
  {
   "cell_type": "code",
   "execution_count": null,
   "metadata": {},
   "outputs": [
    {
     "data": {
      "image/png": "[encoded data removed]",
      "text/plain": [
       "<Figure size 432x288 with 1 Axes>"
      ]
     },
     "metadata": {
      "needs_background": "light"
     },
     "output_type": "display_data"
    }
   ],
   "source": [
    "# Plot data for ELO of all teams over time\n",
    "for team in uniqueTeams:\n",
    "    teamData = eloDf.loc[eloDf['team_id'] == team]\n",
    "    activeYears = teamData.year_id.unique()\n",
    "\n",
    "    data = []\n",
    "    for year in activeYears:\n",
    "        meanEloThisYear = teamData.loc[eloDf['year_id'] == year].elo_n.mean()\n",
    "        data.append(meanEloThisYear)\n",
    "\n",
    "    df = pd.DataFrame(data, columns=['meanElo'], index=activeYears)\n",
    "\n",
    "    plt.plot(df)\n",
    "    plt.title('ELO For %s' % team)\n",
    "    plt.xlabel('Year')\n",
    "\n",
    "    plt.ylabel('ELO Rating')\n",
    "    plt.show()"
   ]
  },
  {
   "cell_type": "code",
   "execution_count": null,
   "metadata": {},
   "outputs": [],
   "source": []
  }
 ],
 "metadata": {
  "kernelspec": {
   "display_name": "Python 3",
   "language": "python",
   "name": "python3"
  },
  "language_info": {
   "codemirror_mode": {
    "name": "ipython",
    "version": 3
   },
   "file_extension": ".py",
   "mimetype": "text/x-python",
   "name": "python",
   "nbconvert_exporter": "python",
   "pygments_lexer": "ipython3",
   "version": "3.7.1"
  }
 },
 "nbformat": 4,
 "nbformat_minor": 2
}
